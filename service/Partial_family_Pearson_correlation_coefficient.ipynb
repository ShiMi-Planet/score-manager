{
 "cells": [
  {
   "cell_type": "code",
   "execution_count": 10,
   "id": "initial_id",
   "metadata": {
    "collapsed": true,
    "ExecuteTime": {
     "end_time": "2024-05-13T15:30:14.930235300Z",
     "start_time": "2024-05-13T15:30:14.878240200Z"
    }
   },
   "outputs": [],
   "source": [
    "import torch"
   ]
  },
  {
   "cell_type": "code",
   "outputs": [],
   "source": [
    "# 计算科目间的相关系数\n",
    "def pearson_correlation(x, y):\n",
    "    mean_x = torch.mean(x)\n",
    "    mean_y = torch.mean(y)\n",
    "    xm = x.sub(mean_x)\n",
    "    ym = y.sub(mean_y)\n",
    "    r_num = torch.sum(xm * ym)\n",
    "    r_den = torch.sqrt(torch.sum(xm ** 2) * torch.sum(ym ** 2))\n",
    "    r = r_num / r_den\n",
    "    return r"
   ],
   "metadata": {
    "collapsed": false,
    "ExecuteTime": {
     "end_time": "2024-05-13T15:30:16.693235600Z",
     "start_time": "2024-05-13T15:30:16.566233800Z"
    }
   },
   "id": "2d017d957192ea25",
   "execution_count": 11
  },
  {
   "cell_type": "code",
   "outputs": [
    {
     "name": "stdout",
     "output_type": "stream",
     "text": [
      "数学与物理的皮尔逊相关系数: 0.9318897128105164\n"
     ]
    }
   ],
   "source": [
    "# 假设列 1 是数学成绩，列 2 是物理成绩\n",
    "math_scores = torch.tensor([95, 85, 76, 88, 91], dtype=torch.float32)\n",
    "physics_scores = torch.tensor([85, 78, 74, 84, 82], dtype=torch.float32)\n",
    "correlation = pearson_correlation(math_scores, physics_scores)\n",
    "print(f'数学与物理的皮尔逊相关系数: {correlation}')"
   ],
   "metadata": {
    "collapsed": false,
    "ExecuteTime": {
     "end_time": "2024-05-13T15:30:18.706232Z",
     "start_time": "2024-05-13T15:30:18.640239400Z"
    }
   },
   "id": "a863283c0751d32",
   "execution_count": 12
  },
  {
   "cell_type": "code",
   "outputs": [],
   "source": [],
   "metadata": {
    "collapsed": false
   },
   "id": "6b526c23b2620124"
  }
 ],
 "metadata": {
  "kernelspec": {
   "display_name": "Python 3",
   "language": "python",
   "name": "python3"
  },
  "language_info": {
   "codemirror_mode": {
    "name": "ipython",
    "version": 2
   },
   "file_extension": ".py",
   "mimetype": "text/x-python",
   "name": "python",
   "nbconvert_exporter": "python",
   "pygments_lexer": "ipython2",
   "version": "2.7.6"
  }
 },
 "nbformat": 4,
 "nbformat_minor": 5
}
